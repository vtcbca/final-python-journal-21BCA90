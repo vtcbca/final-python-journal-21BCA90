{
 "cells": [
  {
   "cell_type": "markdown",
   "id": "d8b4c6a4",
   "metadata": {},
   "source": [
    "# Importing pandas library"
   ]
  },
  {
   "cell_type": "code",
   "execution_count": 13,
   "id": "0e997fc2",
   "metadata": {},
   "outputs": [],
   "source": [
    "import pandas as pd"
   ]
  },
  {
   "cell_type": "markdown",
   "id": "b50ecc56",
   "metadata": {},
   "source": [
    "# 1. Create a list consists of ten names. Use the list to store the list elements in DataFrame. Display the created dataframe."
   ]
  },
  {
   "cell_type": "code",
   "execution_count": 21,
   "id": "61d66507",
   "metadata": {},
   "outputs": [
    {
     "name": "stdout",
     "output_type": "stream",
     "text": [
      "        0\n",
      "0      OM\n",
      "1     SAI\n",
      "2     RAM\n",
      "3   SHYAM\n",
      "4  GANESH\n",
      "5   GEETA\n",
      "6    RITA\n",
      "7    SITA\n",
      "8   RADHA\n",
      "9  SHIDHI\n"
     ]
    }
   ],
   "source": [
    "l=['OM','SAI','RAM','SHYAM','GANESH','GEETA','RITA','SITA','RADHA','SHIDHI']\n",
    "df=pd.DataFrame(l)\n",
    "print(df)"
   ]
  },
  {
   "cell_type": "markdown",
   "id": "7da4ed3a",
   "metadata": {},
   "source": [
    "# 2. Create DataFrame from Dictionary which is consists of lists. Create following dictionary consists of three keys and each of them contain corresponding list of values. \n",
    "     d = {'Student’: ['Rutvik', 'Pankti', 'Evaan', 'Dhyan'], \n",
    "             'City': ['Pune', 'Delhi', 'Surat', 'Houston'], \n",
    "              'Age': [22, 16, 5, 13]} \n"
   ]
  },
  {
   "cell_type": "code",
   "execution_count": 22,
   "id": "6b088f86",
   "metadata": {},
   "outputs": [
    {
     "name": "stdout",
     "output_type": "stream",
     "text": [
      "DataFrame is successfully created.\n"
     ]
    }
   ],
   "source": [
    "d = {'Student': ['Rutvik', 'Pankti', 'Evaan', 'Dhyan'], \n",
    "        'City': ['Pune', 'Delhi', 'Surat', 'Houston'], \n",
    "         'Age': [22, 16, 5, 13]} \n",
    "print('DataFrame is successfully created.')"
   ]
  },
  {
   "cell_type": "markdown",
   "id": "217f98ac",
   "metadata": {},
   "source": [
    "# 3. Store above dictionary in dataframe and display the created dataframe."
   ]
  },
  {
   "cell_type": "code",
   "execution_count": 23,
   "id": "859c6938",
   "metadata": {},
   "outputs": [
    {
     "data": {
      "text/html": [
       "<div>\n",
       "<style scoped>\n",
       "    .dataframe tbody tr th:only-of-type {\n",
       "        vertical-align: middle;\n",
       "    }\n",
       "\n",
       "    .dataframe tbody tr th {\n",
       "        vertical-align: top;\n",
       "    }\n",
       "\n",
       "    .dataframe thead th {\n",
       "        text-align: right;\n",
       "    }\n",
       "</style>\n",
       "<table border=\"1\" class=\"dataframe\">\n",
       "  <thead>\n",
       "    <tr style=\"text-align: right;\">\n",
       "      <th></th>\n",
       "      <th>Student</th>\n",
       "      <th>City</th>\n",
       "      <th>Age</th>\n",
       "    </tr>\n",
       "  </thead>\n",
       "  <tbody>\n",
       "    <tr>\n",
       "      <th>0</th>\n",
       "      <td>Rutvik</td>\n",
       "      <td>Pune</td>\n",
       "      <td>22</td>\n",
       "    </tr>\n",
       "    <tr>\n",
       "      <th>1</th>\n",
       "      <td>Pankti</td>\n",
       "      <td>Delhi</td>\n",
       "      <td>16</td>\n",
       "    </tr>\n",
       "    <tr>\n",
       "      <th>2</th>\n",
       "      <td>Evaan</td>\n",
       "      <td>Surat</td>\n",
       "      <td>5</td>\n",
       "    </tr>\n",
       "    <tr>\n",
       "      <th>3</th>\n",
       "      <td>Dhyan</td>\n",
       "      <td>Houston</td>\n",
       "      <td>13</td>\n",
       "    </tr>\n",
       "  </tbody>\n",
       "</table>\n",
       "</div>"
      ],
      "text/plain": [
       "  Student     City  Age\n",
       "0  Rutvik     Pune   22\n",
       "1  Pankti    Delhi   16\n",
       "2   Evaan    Surat    5\n",
       "3   Dhyan  Houston   13"
      ]
     },
     "execution_count": 23,
     "metadata": {},
     "output_type": "execute_result"
    }
   ],
   "source": [
    "df=pd.DataFrame(d)\n",
    "df"
   ]
  },
  {
   "cell_type": "code",
   "execution_count": null,
   "id": "f4b978f8",
   "metadata": {},
   "outputs": [],
   "source": []
  }
 ],
 "metadata": {
  "kernelspec": {
   "display_name": "Python 3 (ipykernel)",
   "language": "python",
   "name": "python3"
  },
  "language_info": {
   "codemirror_mode": {
    "name": "ipython",
    "version": 3
   },
   "file_extension": ".py",
   "mimetype": "text/x-python",
   "name": "python",
   "nbconvert_exporter": "python",
   "pygments_lexer": "ipython3",
   "version": "3.10.6"
  }
 },
 "nbformat": 4,
 "nbformat_minor": 5
}
