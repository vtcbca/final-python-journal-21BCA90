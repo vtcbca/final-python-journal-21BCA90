{
 "cells": [
  {
   "cell_type": "markdown",
   "id": "7e326d7d",
   "metadata": {},
   "source": [
    "# Importing pandas library"
   ]
  },
  {
   "cell_type": "code",
   "execution_count": 9,
   "id": "5fdd6f29",
   "metadata": {},
   "outputs": [],
   "source": [
    "import csv\n",
    "import pandas as pd"
   ]
  },
  {
   "cell_type": "markdown",
   "id": "03e748e1",
   "metadata": {},
   "source": [
    "# 1.\tWrite 5 records using writer object in file."
   ]
  },
  {
   "cell_type": "code",
   "execution_count": 10,
   "id": "846cb8bc",
   "metadata": {},
   "outputs": [],
   "source": [
    "def Q1():\n",
    "    with open('salary.csv','w',newline='') as sal:\n",
    "        data=[['Empid','Empname','Department','Experience','Salary'],\n",
    "              [1,'ABC','BCA','4 Years',40000],\n",
    "              [2,'DEF','BBA','3 Years',30000],\n",
    "              [3,'GHI','MCA','2 Years',20000],\n",
    "              [4,'JKL','MBA','3 Years',30000],\n",
    "              [5,'MNO','MCA','5 Years',50000]]\n",
    "        w=csv.writer(sal)\n",
    "        w.writerows(data)\n",
    "    print('Data are Successfully Written.')"
   ]
  },
  {
   "cell_type": "markdown",
   "id": "3cba11d9",
   "metadata": {},
   "source": [
    "# 2.\tRead file using reader object and print file in proper format."
   ]
  },
  {
   "cell_type": "code",
   "execution_count": 11,
   "id": "93dc19b2",
   "metadata": {},
   "outputs": [],
   "source": [
    "def Q2():\n",
    "    with open('salary.csv','r',newline='') as sal:\n",
    "        r=csv.reader(sal)\n",
    "        for i in sal:\n",
    "            print(i)"
   ]
  },
  {
   "cell_type": "markdown",
   "id": "ea736d42",
   "metadata": {},
   "source": [
    "# 3.\tAppend 2 record into file and display it."
   ]
  },
  {
   "cell_type": "code",
   "execution_count": 13,
   "id": "38785b59",
   "metadata": {},
   "outputs": [],
   "source": [
    "def Q3():\n",
    "    with open('salary.csv','a',newline='') as sal:\n",
    "        data=[[6,'PQR','BCA','6 Years',60000],\n",
    "              [7,'XYZ','MBA','4 Years',40000]]\n",
    "        w=csv.writer(sal)\n",
    "        w.writerows(data)\n",
    "    Q2()"
   ]
  },
  {
   "cell_type": "markdown",
   "id": "9f2fed11",
   "metadata": {},
   "source": [
    "# 4.\tRead data from file and print total salary of “BCA” department."
   ]
  },
  {
   "cell_type": "code",
   "execution_count": 15,
   "id": "1dec758e",
   "metadata": {},
   "outputs": [],
   "source": [
    "def Q4():\n",
    "    with open('salary.csv','r',newline='') as sal:\n",
    "        data=csv.DictReader(sal)\n",
    "        l=[]\n",
    "        s=0\n",
    "        for i in data:\n",
    "            d=i['Department']\n",
    "            if d=='BCA':\n",
    "                s+=int(i['Salary'])\n",
    "        print('The total Salary of BCA Department is : {}'.format(s))"
   ]
  },
  {
   "cell_type": "markdown",
   "id": "6aaa6095",
   "metadata": {},
   "source": [
    "# 5.\tRead file using PANDA library and display records."
   ]
  },
  {
   "cell_type": "code",
   "execution_count": 16,
   "id": "8ffc6744",
   "metadata": {},
   "outputs": [],
   "source": [
    "def Q5():\n",
    "    df=pd.read_csv('salary.csv')\n",
    "    print(df)"
   ]
  },
  {
   "cell_type": "code",
   "execution_count": 17,
   "id": "6c7fa833",
   "metadata": {},
   "outputs": [
    {
     "name": "stdout",
     "output_type": "stream",
     "text": [
      "Data are Successfully Written.\n"
     ]
    }
   ],
   "source": [
    "Q1()"
   ]
  },
  {
   "cell_type": "code",
   "execution_count": 18,
   "id": "3ab565fc",
   "metadata": {},
   "outputs": [
    {
     "name": "stdout",
     "output_type": "stream",
     "text": [
      "Empid,Empname,Department,Experience,Salary\r\n",
      "\n",
      "1,ABC,BCA,4 Years,40000\r\n",
      "\n",
      "2,DEF,BBA,3 Years,30000\r\n",
      "\n",
      "3,GHI,MCA,2 Years,20000\r\n",
      "\n",
      "4,JKL,MBA,3 Years,30000\r\n",
      "\n",
      "5,MNO,MCA,5 Years,50000\r\n",
      "\n"
     ]
    }
   ],
   "source": [
    "Q2()"
   ]
  },
  {
   "cell_type": "code",
   "execution_count": 19,
   "id": "6c3044e7",
   "metadata": {},
   "outputs": [
    {
     "name": "stdout",
     "output_type": "stream",
     "text": [
      "Empid,Empname,Department,Experience,Salary\r\n",
      "\n",
      "1,ABC,BCA,4 Years,40000\r\n",
      "\n",
      "2,DEF,BBA,3 Years,30000\r\n",
      "\n",
      "3,GHI,MCA,2 Years,20000\r\n",
      "\n",
      "4,JKL,MBA,3 Years,30000\r\n",
      "\n",
      "5,MNO,MCA,5 Years,50000\r\n",
      "\n",
      "6,PQR,BCA,6 Years,60000\r\n",
      "\n",
      "7,XYZ,MBA,4 Years,40000\r\n",
      "\n"
     ]
    }
   ],
   "source": [
    "Q3()"
   ]
  },
  {
   "cell_type": "code",
   "execution_count": 20,
   "id": "a3f2ab9f",
   "metadata": {},
   "outputs": [
    {
     "name": "stdout",
     "output_type": "stream",
     "text": [
      "The total Salary of BCA Department is : 100000\n"
     ]
    }
   ],
   "source": [
    "Q4()"
   ]
  },
  {
   "cell_type": "code",
   "execution_count": 21,
   "id": "910a1fdc",
   "metadata": {},
   "outputs": [
    {
     "name": "stdout",
     "output_type": "stream",
     "text": [
      "   Empid Empname Department Experience  Salary\n",
      "0      1     ABC        BCA    4 Years   40000\n",
      "1      2     DEF        BBA    3 Years   30000\n",
      "2      3     GHI        MCA    2 Years   20000\n",
      "3      4     JKL        MBA    3 Years   30000\n",
      "4      5     MNO        MCA    5 Years   50000\n",
      "5      6     PQR        BCA    6 Years   60000\n",
      "6      7     XYZ        MBA    4 Years   40000\n"
     ]
    }
   ],
   "source": [
    "Q5()"
   ]
  },
  {
   "cell_type": "code",
   "execution_count": null,
   "id": "47adc934",
   "metadata": {},
   "outputs": [],
   "source": []
  }
 ],
 "metadata": {
  "kernelspec": {
   "display_name": "Python 3 (ipykernel)",
   "language": "python",
   "name": "python3"
  },
  "language_info": {
   "codemirror_mode": {
    "name": "ipython",
    "version": 3
   },
   "file_extension": ".py",
   "mimetype": "text/x-python",
   "name": "python",
   "nbconvert_exporter": "python",
   "pygments_lexer": "ipython3",
   "version": "3.10.6"
  }
 },
 "nbformat": 4,
 "nbformat_minor": 5
}
